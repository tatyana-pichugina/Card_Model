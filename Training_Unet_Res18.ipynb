{
 "cells": [
  {
   "cell_type": "code",
   "execution_count": null,
   "metadata": {},
   "outputs": [],
   "source": [
    "\n",
    "%pip install segmentation-models-pytorch\n",
    "%pip install pytorch-lightning \n",
    "%pip install wandb -qU\n",
    "%pip install onnx"
   ]
  },
  {
   "cell_type": "code",
   "execution_count": null,
   "metadata": {},
   "outputs": [],
   "source": [
    "from google.colab import drive\n",
    "drive.mount('/content/drive')"
   ]
  },
  {
   "cell_type": "code",
   "execution_count": null,
   "metadata": {},
   "outputs": [],
   "source": [
    "from torchvision import models\n",
    "from PIL import Image, ImageDraw,ImageOps\n",
    "import matplotlib.pyplot as plt\n",
    "import torchvision.transforms as transforms\n",
    "from torch.utils.data import Dataset, DataLoader\n",
    "import json\n",
    "import segmentation_models_pytorch as smp\n",
    "\n",
    "\n",
    "import torch\n",
    "import pandas as pd\n",
    "import numpy as np\n",
    "import os\n",
    "import cv2\n",
    "\n",
    "\n",
    "import warnings\n",
    "warnings.filterwarnings('ignore')\n",
    "\n",
    "import pytorch_lightning as pl\n",
    "from pytorch_lightning.utilities.model_summary import ModelSummary\n",
    "from pytorch_lightning.loggers import WandbLogger\n",
    "import wandb"
   ]
  },
  {
   "cell_type": "code",
   "execution_count": null,
   "metadata": {},
   "outputs": [],
   "source": [
    "torch.cuda.is_available()"
   ]
  },
  {
   "attachments": {},
   "cell_type": "markdown",
   "metadata": {},
   "source": [
    "# Model Setup"
   ]
  },
  {
   "cell_type": "code",
   "execution_count": 18,
   "metadata": {},
   "outputs": [
    {
     "data": {
      "application/vnd.jupyter.widget-view+json": {
       "model_id": "523cf9eaa6f04943a69d84f19a00fd93",
       "version_major": 2,
       "version_minor": 0
      },
      "text/plain": [
       "VBox(children=(Label(value='Waiting for wandb.init()...\\r'), FloatProgress(value=0.01667196645000028, max=1.0)…"
      ]
     },
     "metadata": {},
     "output_type": "display_data"
    },
    {
     "data": {
      "text/html": [
       "wandb version 0.15.3 is available!  To upgrade, please run:\n",
       " $ pip install wandb --upgrade"
      ],
      "text/plain": [
       "<IPython.core.display.HTML object>"
      ]
     },
     "metadata": {},
     "output_type": "display_data"
    },
    {
     "data": {
      "text/html": [
       "Tracking run with wandb version 0.13.10"
      ],
      "text/plain": [
       "<IPython.core.display.HTML object>"
      ]
     },
     "metadata": {},
     "output_type": "display_data"
    },
    {
     "data": {
      "text/html": [
       "Run data is saved locally in <code>/home/tatyana/Work_Invonto/Segmentation_PyTorch/Cards_Model/card_data_set/wandb/run-20230523_190145-47mhtax5</code>"
      ],
      "text/plain": [
       "<IPython.core.display.HTML object>"
      ]
     },
     "metadata": {},
     "output_type": "display_data"
    },
    {
     "data": {
      "text/html": [
       "Syncing run <strong><a href='https://wandb.ai/team-invonto/Card_detection/runs/47mhtax5' target=\"_blank\">exalted-totem-2</a></strong> to <a href='https://wandb.ai/team-invonto/Card_detection' target=\"_blank\">Weights & Biases</a> (<a href='https://wandb.me/run' target=\"_blank\">docs</a>)<br/>"
      ],
      "text/plain": [
       "<IPython.core.display.HTML object>"
      ]
     },
     "metadata": {},
     "output_type": "display_data"
    },
    {
     "data": {
      "text/html": [
       " View project at <a href='https://wandb.ai/team-invonto/Card_detection' target=\"_blank\">https://wandb.ai/team-invonto/Card_detection</a>"
      ],
      "text/plain": [
       "<IPython.core.display.HTML object>"
      ]
     },
     "metadata": {},
     "output_type": "display_data"
    },
    {
     "data": {
      "text/html": [
       " View run at <a href='https://wandb.ai/team-invonto/Card_detection/runs/47mhtax5' target=\"_blank\">https://wandb.ai/team-invonto/Card_detection/runs/47mhtax5</a>"
      ],
      "text/plain": [
       "<IPython.core.display.HTML object>"
      ]
     },
     "metadata": {},
     "output_type": "display_data"
    }
   ],
   "source": [
    "N_EPOCH=10\n",
    "ENCODER = 'resnet18'\n",
    "Frozen_Encoder_Flag=True\n",
    "ENCODER_WEIGHTS = 'imagenet'\n",
    "CLASSES = ['nail']\n",
    "ACTIVATION = 'sigmoid' # could be None for logits or 'softmax2d' for multiclass segmentation\n",
    "\n",
    "\n",
    "LEARNING_RATE=3.4e-4\n",
    "BATCH_SIZE=15\n",
    "LOSS_TYPE='DiceLoss'\n",
    "MODEL_SAVE_NAME=\"Unet_resnet18_\"\n",
    "DATASET=\"inat_raw_data_train327_val115:v0\"\n",
    "\n",
    "\n",
    "\n",
    "\n",
    "   \n",
    "config={ #model\n",
    "        \"architecture\": \"Unet\",\n",
    "        \"encoder\":ENCODER,\n",
    "        \"frozen_encoder\":Frozen_Encoder_Flag,\n",
    "        \"encoder_weights\":ENCODER_WEIGHTS,\n",
    "        \"classes\":CLASSES,\n",
    "        \"activation\":ACTIVATION,\n",
    "        # loss\n",
    "        \"loss\":\"DiceLoss\",\n",
    "        \"metrics\":\"IoU\",\n",
    "        #optimiser\n",
    "        \"learning_rate\": LEARNING_RATE,\n",
    "        #dataset\n",
    "        \"dataset\": DATASET,\n",
    "        # calculation details\n",
    "        \"epochs\": N_EPOCH,\n",
    "        #device\n",
    "        \"device\":DEVICE}\n",
    "\n",
    "run=wandb.init(project=\"Card_detection\",\n",
    "           notes=\"wandb setup\",\n",
    "           config=config,\n",
    "           tags=ENCODER)\n",
    "\n",
    "\n"
   ]
  },
  {
   "attachments": {},
   "cell_type": "markdown",
   "metadata": {},
   "source": [
    "# Get Data"
   ]
  },
  {
   "cell_type": "code",
   "execution_count": null,
   "metadata": {},
   "outputs": [],
   "source": [
    "# dowload data from the wandb\n",
    "artifact = run.use_artifact('team-invonto/Card_detection/inat_data_train63_val115:v0', type='raw_data')\n",
    "artifact.download('/tmp/')\n",
    "\n",
    "import zipfile\n",
    "\n",
    "def load_data_to_tmp(folder_name):\n",
    "  zip_ref = zipfile.ZipFile('/tmp/'+folder_name, 'r') #Opens the zip file in read mode\n",
    "  zip_ref.extractall('/tmp') #Extracts the files into the /tmp folder\n",
    "  zip_ref.close()\n",
    "\n",
    "load_data_to_tmp('Train.zip')\n",
    "load_data_to_tmp('Validation.zip')"
   ]
  },
  {
   "attachments": {},
   "cell_type": "markdown",
   "metadata": {},
   "source": [
    "# Dataset\n"
   ]
  },
  {
   "cell_type": "code",
   "execution_count": 19,
   "metadata": {},
   "outputs": [],
   "source": [
    "class CardDataset(Dataset):\n",
    "    \"\"\"NailDataset dataset.\n",
    "    img generator that take file names and selected poligons from csv_file\n",
    "    \"\"\"\n",
    "\n",
    "    def __init__(self, csv_file, root_dir, transform=None, augmentation=None):\n",
    "        \"\"\"\n",
    "        Args:\n",
    "            csv_file (string): Path to the csv file with annotations.\n",
    "            root_dir (string): Directory with all the images.\n",
    "            transform (callable, optional): Optional transform to be applied\n",
    "                on a sample.\n",
    "                \n",
    "            nail_dataset[img_number_in_csv][1] -image\n",
    "            nail_dataset[img_number_in_csv][0] -corresponding mask image \n",
    "        \"\"\"\n",
    "        self.nail_frame = pd.read_csv(csv_file)\n",
    "        self.root_dir = root_dir\n",
    "        self.transform = transform\n",
    "        self.augmentation = augmentation\n",
    "\n",
    "    def __len__(self):\n",
    "        return self.nail_frame.shape[0]\n",
    "\n",
    "    def __getitem__(self, idx):\n",
    "        file_id=self.nail_frame.iloc[idx][\"filename\"]\n",
    "        #\"read image\"\n",
    "        img_name = os.path.join(self.root_dir,self.nail_frame.iloc[idx][\"filename\"])\n",
    "        image = cv2.imread(img_name)\n",
    "        image = cv2.cvtColor(image, cv2.COLOR_BGR2RGB)\n",
    "        # read mask\n",
    "        mask_name=os.path.join(self.root_dir,self.nail_frame.iloc[idx][\"mask\"])\n",
    "        mask = cv2.imread(mask_name)\n",
    "        mask = cv2.cvtColor(mask,cv2.COLOR_BGR2GRAY)\n",
    "\n",
    "            \n",
    "        if self.augmentation:\n",
    "            sample = self.augmentation(image=image, mask=mask)\n",
    "            image, mask = sample['image'], sample['mask']\n",
    "            \n",
    "        if self.transform:\n",
    "            image = self.transform['image'](image)\n",
    "            mask = self.transform['mask'](mask)\n",
    "    \n",
    "         \n",
    "        return image, mask\n",
    "\n",
    "    \n",
    "transform_dict = {'image': transforms.Compose(\n",
    "                    [transforms.ToTensor(),\n",
    "                     transforms.Normalize(mean=[0.5815, 0.5152, 0.4708],\n",
    "                              std=[0.2582, 0.2503, 0.2452]),]),\n",
    "                 'mask': transforms.Compose([transforms.ToTensor()])}"
   ]
  },
  {
   "attachments": {},
   "cell_type": "markdown",
   "metadata": {},
   "source": [
    "# Data loader"
   ]
  },
  {
   "cell_type": "code",
   "execution_count": 20,
   "metadata": {},
   "outputs": [
    {
     "name": "stdout",
     "output_type": "stream",
     "text": [
      "n_cpu=12\n",
      "Number of training samples: 63\n",
      "Number of validation samples: 115\n"
     ]
    }
   ],
   "source": [
    "n_cpu = os.cpu_count()\n",
    "print(\"n_cpu={}\".format(n_cpu))\n",
    "\n",
    "\n",
    "#train\n",
    "data_path=''\n",
    "x_train_path='/home/tatyana/Work_Invonto/Segmentation_PyTorch/Cards_Model/card_data_set/Train/'\n",
    "y_train_dataloader=('/home/tatyana/Work_Invonto/Segmentation_PyTorch/Cards_Model/card_data_set/Train/Train_DataLoader.csv')\n",
    "train_dataset = CardDataset(y_train_dataloader, x_train_path,transform=transform_dict, augmentation=None)\n",
    "train_loader = DataLoader(train_dataset, batch_size=BATCH_SIZE, shuffle=True,drop_last=True,num_workers=n_cpu)\n",
    "print('Number of training samples:', len(train_dataset))\n",
    "\n",
    "# validation\n",
    "x_valid_path = os.path.join(data_path, 'Validation/')\n",
    "y_valid_dataloader = os.path.join(x_valid_path, 'Validation_DataLoader.csv')\n",
    "valid_dataset = CardDataset(y_valid_dataloader,x_valid_path,transform=transform_dict, augmentation=None)\n",
    "valid_loader = DataLoader(valid_dataset, batch_size=BATCH_SIZE, shuffle=False,num_workers=n_cpu)\n",
    "valid_dataset_vis=CardDataset(y_valid_dataloader, x_valid_path)\n",
    "print('Number of validation samples:', len(valid_dataset))"
   ]
  },
  {
   "cell_type": "code",
   "execution_count": 21,
   "metadata": {},
   "outputs": [],
   "source": [
    "# image,mask=valid_dataset[0]\n",
    "# plt.imshow(mask.numpy().transpose(1, 2, 0))\n",
    "\n",
    "# # single batch\n",
    "# batch_img=next(iter(valid_loader))[0]\n",
    "# batch_mask=next(iter(valid_loader))[1]\n",
    "# print(batch_img.shape)\n",
    "# print(batch_mask.shape)"
   ]
  },
  {
   "attachments": {},
   "cell_type": "markdown",
   "metadata": {},
   "source": [
    "# Model U-Net\n",
    "https://github.com/qubvel/segmentation_models.pytorch/blob/master/examples/binary_segmentation_intro.ipynb"
   ]
  },
  {
   "cell_type": "code",
   "execution_count": 22,
   "metadata": {},
   "outputs": [],
   "source": [
    "from typing import Any\n",
    "\n",
    "\n",
    "class CardModel(pl.LightningModule):\n",
    "\n",
    "    def __init__(self,arch,encoder_name,encoder_weights,learning_rate,frozen_encoder=True):\n",
    "        super().__init__()\n",
    "        self.lr=learning_rate\n",
    "        self.save_hyperparameters()\n",
    "        self.training_step_outputs = []\n",
    "        self.validation_step_outputs = []\n",
    "\n",
    "        self.model = smp.create_model(\n",
    "            arch, \n",
    "            encoder_name=encoder_name,\n",
    "            encoder_weights=encoder_weights,\n",
    "            classes=1,\n",
    "            #activation='sigmoid'\n",
    "            )\n",
    "\n",
    "        # for image segmentation dice loss could be the best first choice\n",
    "        self.loss_fn = smp.losses.DiceLoss(smp.losses.BINARY_MODE,from_logits=True)\n",
    "        \n",
    "        if frozen_encoder==True:\n",
    "            for child in self.model.encoder.children():\n",
    "                for param in child.parameters():\n",
    "                    param.requires_grad = False \n",
    "                    \n",
    "                    \n",
    "    def forward(self, image):\n",
    "        mask = self.model(image)\n",
    "        return mask\n",
    "    \n",
    "    def training_step(self, batch, batch_idx):\n",
    "        # training_step defines the train loop.\n",
    "        # it is independent of forward\n",
    "\n",
    "        image=batch[0]\n",
    "        # assert image (batch_size,num_channels,height,width)\n",
    "        assert image.ndim == 4\n",
    "        # assert the image dim is suitable for Unet\n",
    "        h, w = image.shape[2:]\n",
    "        assert h % 32 == 0 and w % 32 == 0\n",
    "\n",
    "        mask=batch[1]\n",
    "        assert mask.ndim == 4\n",
    "        assert mask.max()<=1 and  mask.min()>=0 # check that the mask between [0,1] not in range [0,255]\n",
    "\n",
    "        # calculate loss\n",
    "        output_mask = self.forward(image)\n",
    "        loss=self.loss_fn(output_mask,mask)\n",
    "        \n",
    "        pred_mask=(output_mask.sigmoid() >= 0.5).float()\n",
    "        \n",
    "        \n",
    "\n",
    "        # calculate logs\n",
    "        tp, fp, fn, tn = smp.metrics.get_stats(pred_mask.long(), mask.long(), mode=\"binary\")\n",
    "\n",
    "        train_batch_dictionary={\"tp\":tp,\n",
    "                          \"fp\":fp,\n",
    "                          \"fn\":fn,\n",
    "                          \"tn\":tn}\n",
    "        \n",
    "        self.training_step_outputs.append(train_batch_dictionary)\n",
    "        # logs metrics for each training_step,\n",
    "        # and the average across the epoch, to the progress bar and logger\n",
    "        self.log(\"train_loss\", loss, on_epoch=True, prog_bar=True, logger=True)\n",
    "        \n",
    "        return loss\n",
    "    \n",
    "    def on_train_epoch_end(self):\n",
    "        # aggregate step metics\n",
    "        outputs=self.training_step_outputs\n",
    "        tp = torch.cat([x[\"tp\"] for x in outputs])\n",
    "        fp = torch.cat([x[\"fp\"] for x in outputs])\n",
    "        fn = torch.cat([x[\"fn\"] for x in outputs])\n",
    "        tn = torch.cat([x[\"tn\"] for x in outputs])\n",
    "\n",
    "\n",
    "        per_image_iou = smp.metrics.iou_score(tp, fp, fn, tn, reduction=\"micro-imagewise\") # mean (per image) \n",
    "        dataset_iou = smp.metrics.iou_score(tp, fp, fn, tn, reduction=\"micro\") # sum tp,fp,fn,tn over all dataset\n",
    "\n",
    "        metrics = {\n",
    "            \"train_per_image_iou\": per_image_iou,\n",
    "        #    \"train_dataset_iou\": dataset_iou,\n",
    "        }\n",
    "\n",
    "        self.log_dict(metrics, prog_bar=True)\n",
    "        self.training_step_outputs.clear() \n",
    "\n",
    "\n",
    "\n",
    "    def validation_step(self, batch, batch_idx):\n",
    "        # training_step defines the train loop.\n",
    "        # it is independent of forward\n",
    "\n",
    "        image=batch[0]\n",
    "        # assert image (batch_size,num_channels,height,width)\n",
    "        assert image.ndim == 4\n",
    "        # assert the image dim is suitable for Unet\n",
    "        h, w = image.shape[2:]\n",
    "        assert h % 32 == 0 and w % 32 == 0\n",
    "\n",
    "        mask=batch[1]\n",
    "        assert mask.ndim == 4\n",
    "        assert mask.max()<=1 and  mask.min()>=0 # check that the mask between [0,1] not in range [0,255]\n",
    "\n",
    "        # calculate loss\n",
    "        output_mask = self.forward(image)\n",
    "        loss=self.loss_fn(output_mask,mask)\n",
    "        \n",
    "        pred_mask=(output_mask.sigmoid() >= 0.5).float()\n",
    "        \n",
    "\n",
    "        # calculate logs\n",
    "        tp, fp, fn, tn = smp.metrics.get_stats(pred_mask.long(), mask.long(), mode=\"binary\")\n",
    "\n",
    "        validation_batch_dictionary={\"loss\":loss,\n",
    "                          \"tp\":tp,\n",
    "                          \"fp\":fp,\n",
    "                          \"fn\":fn,\n",
    "                          \"tn\":tn}\n",
    "        \n",
    "        self.validation_step_outputs.append(validation_batch_dictionary)\n",
    "        # logs metrics for each training_step,\n",
    "        # and the average across the epoch, to the progress bar and logger\n",
    "        self.log(\"valid_loss\", loss, on_epoch=True, prog_bar=True, logger=True)\n",
    "        \n",
    "        return loss\n",
    "    \n",
    "\n",
    "    def on_validation_epoch_end(self):\n",
    "        # aggregate step metics\n",
    "        outputs= self.validation_step_outputs\n",
    "        tp = torch.cat([x[\"tp\"] for x in outputs])\n",
    "        fp = torch.cat([x[\"fp\"] for x in outputs])\n",
    "        fn = torch.cat([x[\"fn\"] for x in outputs])\n",
    "        tn = torch.cat([x[\"tn\"] for x in outputs])\n",
    "\n",
    "\n",
    "        per_image_iou = smp.metrics.iou_score(tp, fp, fn, tn, reduction=\"micro-imagewise\") # mean (per image) \n",
    "        #dataset_iou = smp.metrics.iou_score(tp, fp, fn, tn, reduction=\"micro\") # sum tp,fp,fn,tn over all dataset\n",
    "\n",
    "        metrics = {\n",
    "            \"validation_per_image_iou\": per_image_iou,\n",
    "            #\"validation_dataset_iou\": dataset_iou,\n",
    "        }\n",
    "\n",
    "        self.log_dict(metrics, prog_bar=True)\n",
    "        self.validation_step_outputs.clear()\n",
    "    \n",
    "    def configure_optimizers(self):\n",
    "        return torch.optim.Adam(self.parameters(), lr=(self.lr or self.learning_rate))\n",
    "    \n"
   ]
  },
  {
   "cell_type": "code",
   "execution_count": 23,
   "metadata": {},
   "outputs": [
    {
     "data": {
      "text/plain": [
       "  | Name    | Type     | Params\n",
       "-------------------------------------\n",
       "0 | model   | Unet     | 14.3 M\n",
       "1 | loss_fn | DiceLoss | 0     \n",
       "-------------------------------------\n",
       "3.2 M     Trainable params\n",
       "11.2 M    Non-trainable params\n",
       "14.3 M    Total params\n",
       "57.313    Total estimated model params size (MB)"
      ]
     },
     "execution_count": 23,
     "metadata": {},
     "output_type": "execute_result"
    }
   ],
   "source": [
    "card_model = CardModel(\"Unet\", ENCODER,ENCODER_WEIGHTS,LEARNING_RATE,frozen_encoder=Frozen_Encoder_Flag)\n",
    "ModelSummary(card_model,max_depth=1)"
   ]
  },
  {
   "cell_type": "code",
   "execution_count": 26,
   "metadata": {},
   "outputs": [
    {
     "name": "stderr",
     "output_type": "stream",
     "text": [
      "GPU available: False, used: False\n",
      "TPU available: False, using: 0 TPU cores\n",
      "IPU available: False, using: 0 IPUs\n",
      "HPU available: False, using: 0 HPUs\n",
      "\n",
      "  | Name    | Type     | Params\n",
      "-------------------------------------\n",
      "0 | model   | Unet     | 24.4 M\n",
      "1 | loss_fn | DiceLoss | 0     \n",
      "-------------------------------------\n",
      "3.2 M     Trainable params\n",
      "21.3 M    Non-trainable params\n",
      "24.4 M    Total params\n",
      "97.745    Total estimated model params size (MB)\n"
     ]
    },
    {
     "name": "stdout",
     "output_type": "stream",
     "text": [
      "Epoch 9: 100%|██████████| 4/4 [00:46<00:00, 11.71s/it, v_num=tax5, train_loss_step=0.0406, valid_loss=0.141, validation_per_image_iou=0.761, train_loss_epoch=0.0422, train_per_image_iou=0.902]"
     ]
    },
    {
     "name": "stderr",
     "output_type": "stream",
     "text": [
      "`Trainer.fit` stopped: `max_epochs=10` reached.\n"
     ]
    },
    {
     "name": "stdout",
     "output_type": "stream",
     "text": [
      "Epoch 9: 100%|██████████| 4/4 [00:47<00:00, 11.78s/it, v_num=tax5, train_loss_step=0.0406, valid_loss=0.141, validation_per_image_iou=0.761, train_loss_epoch=0.0422, train_per_image_iou=0.902]\n"
     ]
    }
   ],
   "source": [
    "card_model = CardModel(\"Unet\", \"resnet34\",\"imagenet\",0.05,frozen_encoder=True)\n",
    "\n",
    "\n",
    "wandb_logger = WandbLogger(project=\"Card_detection\")\n",
    "trainer = pl.Trainer(max_epochs=N_EPOCH,\n",
    "                     logger=wandb_logger,\n",
    "                     log_every_n_steps=1)\n",
    "trainer.fit(\n",
    "    model=card_model,\n",
    "    train_dataloaders=train_loader,\n",
    "    val_dataloaders=valid_loader,)\n",
    "    \n"
   ]
  },
  {
   "cell_type": "code",
   "execution_count": 27,
   "metadata": {},
   "outputs": [
    {
     "data": {
      "text/html": [
       "Waiting for W&B process to finish... <strong style=\"color:green\">(success).</strong>"
      ],
      "text/plain": [
       "<IPython.core.display.HTML object>"
      ]
     },
     "metadata": {},
     "output_type": "display_data"
    },
    {
     "data": {
      "text/html": [
       "<style>\n",
       "    table.wandb td:nth-child(1) { padding: 0 10px; text-align: left ; width: auto;} td:nth-child(2) {text-align: left ; width: 100%}\n",
       "    .wandb-row { display: flex; flex-direction: row; flex-wrap: wrap; justify-content: flex-start; width: 100% }\n",
       "    .wandb-col { display: flex; flex-direction: column; flex-basis: 100%; flex: 1; padding: 10px; }\n",
       "    </style>\n",
       "<div class=\"wandb-row\"><div class=\"wandb-col\"><h3>Run history:</h3><br/><table class=\"wandb\"><tr><td>epoch</td><td>▁▁▁▁▂▂▂▂▃▃▃▃▃▃▃▃▄▄▄▄▅▅▅▅▆▆▆▆▆▆▆▆▇▇▇▇████</td></tr><tr><td>train_loss_epoch</td><td>█▇▇▆▅▃▁▁▁▁</td></tr><tr><td>train_loss_step</td><td>█▇▇▇▇▇▇▇▆▆▆▅▆▅▆▅▅▅▄▄▃▃▂▂▂▁▂▁▁▁▁▁▁▁▁▁▁▁▁▁</td></tr><tr><td>train_per_image_iou</td><td>▁▁▁▂▇▇████</td></tr><tr><td>trainer/global_step</td><td>▁▁▂▂▂▂▂▂▂▃▃▃▃▃▄▄▄▄▄▄▅▅▅▅▅▅▆▆▆▆▇▇▇▇▇▇▇███</td></tr><tr><td>valid_loss</td><td>████▇▅▃▂▁▁</td></tr><tr><td>validation_per_image_iou</td><td>▁▁▁▁▂▄▅▆██</td></tr></table><br/></div><div class=\"wandb-col\"><h3>Run summary:</h3><br/><table class=\"wandb\"><tr><td>epoch</td><td>9</td></tr><tr><td>train_loss_epoch</td><td>0.04224</td></tr><tr><td>train_loss_step</td><td>0.04064</td></tr><tr><td>train_per_image_iou</td><td>0.91269</td></tr><tr><td>trainer/global_step</td><td>39</td></tr><tr><td>valid_loss</td><td>0.14104</td></tr><tr><td>validation_per_image_iou</td><td>0.76085</td></tr></table><br/></div></div>"
      ],
      "text/plain": [
       "<IPython.core.display.HTML object>"
      ]
     },
     "metadata": {},
     "output_type": "display_data"
    },
    {
     "data": {
      "text/html": [
       " View run <strong style=\"color:#cdcd00\">exalted-totem-2</strong> at: <a href='https://wandb.ai/team-invonto/Card_detection/runs/47mhtax5' target=\"_blank\">https://wandb.ai/team-invonto/Card_detection/runs/47mhtax5</a><br/>Synced 6 W&B file(s), 0 media file(s), 0 artifact file(s) and 0 other file(s)"
      ],
      "text/plain": [
       "<IPython.core.display.HTML object>"
      ]
     },
     "metadata": {},
     "output_type": "display_data"
    },
    {
     "data": {
      "text/html": [
       "Find logs at: <code>./wandb/run-20230523_190145-47mhtax5/logs</code>"
      ],
      "text/plain": [
       "<IPython.core.display.HTML object>"
      ]
     },
     "metadata": {},
     "output_type": "display_data"
    }
   ],
   "source": [
    "wandb.finish()"
   ]
  },
  {
   "cell_type": "code",
   "execution_count": null,
   "metadata": {},
   "outputs": [],
   "source": [
    "# turn learning rate\n",
    "# trainer = pl.Trainer(enable_progress_bar=True)\n",
    "# tuner =pl.tuner.Tuner(trainer)\n",
    "# lr_finder=tuner.lr_find(card_model,train_loader,mode='exponential',min_lr=1e-5, max_lr=0.1, num_training=20)\n",
    "# print(lr_finder.results)\n",
    "\n",
    "\n",
    "\n",
    "# fig = lr_finder.plot(suggest=True)\n",
    "# suggested_lr = lr_finder.suggestion()\n",
    "# print(\"suggested_lr\",suggested_lr)\n",
    "# fig.show()\n",
    "\n",
    "# save data frame\n",
    "# pd.DataFrame(lr_finder.results).to_csv(\"LR_tuning_1e-5_1_exponential.csv\")"
   ]
  },
  {
   "cell_type": "code",
   "execution_count": 16,
   "metadata": {},
   "outputs": [],
   "source": [
    "model = card_model.load_from_checkpoint(\"/home/tatyana/Work_Invonto/Segmentation_PyTorch/Cards_Model/card_data_set/lightning_logs/version_45/checkpoints/epoch=851-step=852.ckpt\")\n",
    "\n",
    "# disable randomness, dropout, etc...\n",
    "model.eval()\n",
    "x=torch.zeros((1,3,480,320))\n",
    "y_hat=model(x)\n"
   ]
  },
  {
   "cell_type": "code",
   "execution_count": 28,
   "metadata": {},
   "outputs": [
    {
     "data": {
      "image/png": "[encoded data removed]",
      "text/plain": [
       "<Figure size 640x480 with 1 Axes>"
      ]
     },
     "metadata": {},
     "output_type": "display_data"
    }
   ],
   "source": [
    "model = card_model.load_from_checkpoint(\"/home/tatyana/Work_Invonto/Segmentation_PyTorch/Cards_Model/card_data_set/lightning_logs/version_45/checkpoints/epoch=851-step=852.ckpt\")\n",
    "model.eval()\n",
    "x = torch.randn((1,3,480,320))\n",
    "\n",
    "with torch.no_grad():\n",
    "    y_hat = model(x)\n",
    "    plt.imshow(y_hat.numpy().squeeze())"
   ]
  },
  {
   "cell_type": "code",
   "execution_count": 24,
   "metadata": {},
   "outputs": [
    {
     "data": {
      "text/plain": [
       "(1, 1, 480, 320)"
      ]
     },
     "execution_count": 24,
     "metadata": {},
     "output_type": "execute_result"
    }
   ],
   "source": [
    "y_hat.detach().numpy().shape"
   ]
  },
  {
   "cell_type": "code",
   "execution_count": null,
   "metadata": {},
   "outputs": [],
   "source": [
    "checkpoint = torch.load(\"/home/tatyana/Work_Invonto/Segmentation_PyTorch/Cards_Model/card_data_set/lightning_logs/version_45/checkpoints/epoch=851-step=852.ckpt\", map_location=lambda storage, loc: storage)\n",
    "print(checkpoint[\"hyper_parameters\"])"
   ]
  },
  {
   "cell_type": "code",
   "execution_count": 38,
   "metadata": {},
   "outputs": [],
   "source": [
    "#tensorboard --logdir=/home/tatyana/Work_Invonto/Segmentation_PyTorch/Cards_Model/card_data_set/lightning_logs/"
   ]
  },
  {
   "attachments": {},
   "cell_type": "markdown",
   "metadata": {},
   "source": []
  }
 ],
 "metadata": {
  "kernelspec": {
   "display_name": "invonto",
   "language": "python",
   "name": "python3"
  },
  "language_info": {
   "codemirror_mode": {
    "name": "ipython",
    "version": 3
   },
   "file_extension": ".py",
   "mimetype": "text/x-python",
   "name": "python",
   "nbconvert_exporter": "python",
   "pygments_lexer": "ipython3",
   "version": "3.9.1"
  },
  "orig_nbformat": 4
 },
 "nbformat": 4,
 "nbformat_minor": 2
}
