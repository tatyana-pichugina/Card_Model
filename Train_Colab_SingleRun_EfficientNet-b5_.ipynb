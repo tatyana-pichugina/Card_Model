{
  "cells": [
    {
      "cell_type": "code",
      "execution_count": 1,
      "metadata": {
        "colab": {
          "base_uri": "https://localhost:8080/",
          "height": 457,
          "referenced_widgets": [
            "dba106bbaf184380bdb32b0409dad1db",
            "c142ece118784b8d9c277bb9037be7ab",
            "66ec6b636f1f4900b18192b11dca250e",
            "8e50c8dad02046a59b46d5cf6b7d5779",
            "e3cc3be83c5944589ada73ef002c930e",
            "97d49e68226d47669e5868e3d766760a",
            "5f7825c7242949ff8d545d7ca715db4e",
            "793dc8bf53d543e7961d4ccd0222effa"
          ]
        },
        "id": "P3bFvrXa-PgC",
        "outputId": "127e3027-8a84-4d50-ed5c-2dbbfdd7da80"
      },
      "outputs": [
        {
          "name": "stdout",
          "output_type": "stream",
          "text": [
            "check environment \n",
            "I'm running on Colab\n",
            "Cuda available True\n",
            "installing required packages ...\n",
            "Manage dataset\n",
            "Mounted at /content/drive\n"
          ]
        },
        {
          "data": {
            "application/javascript": "\n        window._wandbApiKey = new Promise((resolve, reject) => {\n            function loadScript(url) {\n            return new Promise(function(resolve, reject) {\n                let newScript = document.createElement(\"script\");\n                newScript.onerror = reject;\n                newScript.onload = resolve;\n                document.body.appendChild(newScript);\n                newScript.src = url;\n            });\n            }\n            loadScript(\"https://cdn.jsdelivr.net/npm/postmate/build/postmate.min.js\").then(() => {\n            const iframe = document.createElement('iframe')\n            iframe.style.cssText = \"width:0;height:0;border:none\"\n            document.body.appendChild(iframe)\n            const handshake = new Postmate({\n                container: iframe,\n                url: 'https://wandb.ai/authorize'\n            });\n            const timeout = setTimeout(() => reject(\"Couldn't auto authenticate\"), 5000)\n            handshake.then(function(child) {\n                child.on('authorize', data => {\n                    clearTimeout(timeout)\n                    resolve(data)\n                });\n            });\n            })\n        });\n    ",
            "text/plain": [
              "<IPython.core.display.Javascript object>"
            ]
          },
          "metadata": {},
          "output_type": "display_data"
        },
        {
          "name": "stderr",
          "output_type": "stream",
          "text": [
            "\u001b[34m\u001b[1mwandb\u001b[0m: Appending key for api.wandb.ai to your netrc file: /root/.netrc\n"
          ]
        },
        {
          "data": {
            "text/html": [
              "Tracking run with wandb version 0.15.7"
            ],
            "text/plain": [
              "<IPython.core.display.HTML object>"
            ]
          },
          "metadata": {},
          "output_type": "display_data"
        },
        {
          "data": {
            "text/html": [
              "Run data is saved locally in <code>/content/wandb/run-20230726_175741-daz52r89</code>"
            ],
            "text/plain": [
              "<IPython.core.display.HTML object>"
            ]
          },
          "metadata": {},
          "output_type": "display_data"
        },
        {
          "data": {
            "text/html": [
              "Syncing run <strong><a href='https://wandb.ai/team-invonto/Card_detection/runs/daz52r89' target=\"_blank\">stellar-morning-19</a></strong> to <a href='https://wandb.ai/team-invonto/Card_detection' target=\"_blank\">Weights & Biases</a> (<a href='https://wandb.me/run' target=\"_blank\">docs</a>)<br/>"
            ],
            "text/plain": [
              "<IPython.core.display.HTML object>"
            ]
          },
          "metadata": {},
          "output_type": "display_data"
        },
        {
          "data": {
            "text/html": [
              " View project at <a href='https://wandb.ai/team-invonto/Card_detection' target=\"_blank\">https://wandb.ai/team-invonto/Card_detection</a>"
            ],
            "text/plain": [
              "<IPython.core.display.HTML object>"
            ]
          },
          "metadata": {},
          "output_type": "display_data"
        },
        {
          "data": {
            "text/html": [
              " View run at <a href='https://wandb.ai/team-invonto/Card_detection/runs/daz52r89' target=\"_blank\">https://wandb.ai/team-invonto/Card_detection/runs/daz52r89</a>"
            ],
            "text/plain": [
              "<IPython.core.display.HTML object>"
            ]
          },
          "metadata": {},
          "output_type": "display_data"
        },
        {
          "name": "stdout",
          "output_type": "stream",
          "text": [
            "dowload data from the wandb to temp\n"
          ]
        },
        {
          "name": "stderr",
          "output_type": "stream",
          "text": [
            "\u001b[34m\u001b[1mwandb\u001b[0m: Downloading large artifact Dataset_July2023_train213_val31:v0, 73.86MB. 2 files... \n",
            "\u001b[34m\u001b[1mwandb\u001b[0m:   2 of 2 files downloaded.  \n",
            "Done. 0:0:1.5\n"
          ]
        },
        {
          "data": {
            "text/html": [
              "Waiting for W&B process to finish... <strong style=\"color:green\">(success).</strong>"
            ],
            "text/plain": [
              "<IPython.core.display.HTML object>"
            ]
          },
          "metadata": {},
          "output_type": "display_data"
        },
        {
          "data": {
            "application/vnd.jupyter.widget-view+json": {
              "model_id": "dba106bbaf184380bdb32b0409dad1db",
              "version_major": 2,
              "version_minor": 0
            },
            "text/plain": [
              "VBox(children=(Label(value='0.001 MB of 0.001 MB uploaded (0.000 MB deduped)\\r'), FloatProgress(value=1.0, max…"
            ]
          },
          "metadata": {},
          "output_type": "display_data"
        },
        {
          "data": {
            "text/html": [
              " View run <strong style=\"color:#cdcd00\">stellar-morning-19</strong> at: <a href='https://wandb.ai/team-invonto/Card_detection/runs/daz52r89' target=\"_blank\">https://wandb.ai/team-invonto/Card_detection/runs/daz52r89</a><br/>Synced 5 W&B file(s), 0 media file(s), 0 artifact file(s) and 0 other file(s)"
            ],
            "text/plain": [
              "<IPython.core.display.HTML object>"
            ]
          },
          "metadata": {},
          "output_type": "display_data"
        },
        {
          "data": {
            "text/html": [
              "Find logs at: <code>./wandb/run-20230726_175741-daz52r89/logs</code>"
            ],
            "text/plain": [
              "<IPython.core.display.HTML object>"
            ]
          },
          "metadata": {},
          "output_type": "display_data"
        }
      ],
      "source": [
        "import os\n",
        "import subprocess\n",
        "import sys\n",
        "import torch\n",
        "import matplotlib.pyplot as plt\n",
        "import pandas as pd\n",
        "import numpy as np\n",
        "import os\n",
        "import cv2\n",
        "import zipfile\n",
        "from torchvision import models\n",
        "import torchvision.transforms as transforms\n",
        "import torchvision\n",
        "from torch.utils.data import Dataset, DataLoader\n",
        "import json\n",
        "\n",
        "\n",
        "##############################################################################\n",
        "print(\"check environment \")\n",
        "##############################################################################\n",
        "\n",
        "if 'COLAB_GPU' in os.environ:\n",
        "   print(\"I'm running on Colab\")\n",
        "\n",
        "   def install(package):\n",
        "       subprocess.check_call([sys.executable, \"-m\", \"pip\", \"install\", package])\n",
        "\n",
        "   print(\"Cuda available\",torch.cuda.is_available())\n",
        "   print(\"installing required packages ...\")\n",
        "   install(\"segmentation-models-pytorch\")\n",
        "   install(\"lightning\")\n",
        "   install(\"wandb\")\n",
        "   install(\"onnx\")\n",
        "   install(\"albumentations\")\n",
        "\n",
        "\n",
        "import segmentation_models_pytorch as smp\n",
        "import albumentations as A\n",
        "import albumentations.augmentations.functional as F\n",
        "from albumentations.pytorch import ToTensorV2\n",
        "\n",
        "import warnings\n",
        "warnings.filterwarnings('ignore')\n",
        "\n",
        "import pytorch_lightning as pl\n",
        "from lightning.pytorch.utilities.model_summary import ModelSummary\n",
        "from pytorch_lightning.loggers import WandbLogger\n",
        "\n",
        "import wandb\n",
        "\n",
        "\n",
        "\n",
        "\n",
        "##############################################################################\n",
        "print(\"Manage dataset\")\n",
        "##############################################################################\n",
        "\n",
        "if 'COLAB_GPU' in os.environ:\n",
        "\n",
        "   from google.colab import drive\n",
        "   drive.mount('/content/drive')\n",
        "\n",
        "\n",
        "   def load_data_to_tmp(folder_name):\n",
        "    zip_ref = zipfile.ZipFile('/tmp/'+folder_name, 'r') #Opens the zip file in read mode\n",
        "    zip_ref.extractall('/tmp') #Extracts the files into the /tmp folder\n",
        "    zip_ref.close()\n",
        "\n",
        "   run=wandb.init(project=\"Card_detection\")\n",
        "   print(\"dowload data from the wandb to temp\")\n",
        "   artifact = run.use_artifact('team-invonto/Card_detection/Dataset_July2023_train213_val31:v0', type='compressed_480x320')\n",
        "   artifact.download('/tmp/')\n",
        "   load_data_to_tmp('Train.zip')\n",
        "   load_data_to_tmp('Validation.zip')\n",
        "   data_path='/tmp/'\n",
        "   wandb.finish()\n",
        "\n",
        "\n",
        "else:\n",
        "   data_path='/home/tatyana/Work_Invonto/Dataset/Card_Dataset/Dataset_ready_July2023'\n",
        "   print('running local')"
      ]
    },
    {
      "cell_type": "code",
      "execution_count": null,
      "metadata": {
        "id": "Vy21psk59sLq"
      },
      "outputs": [],
      "source": [
        "############################################################################################################33\n",
        "#### Card Dataset\n",
        "\n",
        "class CardDataset(Dataset):\n",
        "    \"\"\"NailDataset dataset.\n",
        "    img generator that take file names and selected poligons from csv_file\n",
        "    \"\"\"\n",
        "\n",
        "    def __init__(self, csv_file, root_dir, transform=None, augmentation=None):\n",
        "        \"\"\"\n",
        "        Args:\n",
        "            csv_file (string): Path to the csv file with annotations.\n",
        "            root_dir (string): Directory with all the images.\n",
        "            transform (callable, optional): Optional transform to be applied\n",
        "                on a sample.\n",
        "\n",
        "            nail_dataset[img_number_in_csv][1] -image\n",
        "            nail_dataset[img_number_in_csv][0] -corresponding mask image\n",
        "        \"\"\"\n",
        "        self.nail_frame = pd.read_csv(csv_file)\n",
        "        self.root_dir = root_dir\n",
        "        self.transform = transform\n",
        "        self.augmentation = augmentation\n",
        "\n",
        "    def __len__(self):\n",
        "        return self.nail_frame.shape[0]\n",
        "\n",
        "    def __getitem__(self, idx):\n",
        "        file_id=self.nail_frame.iloc[idx][\"filename\"]\n",
        "        #\"read image\"\n",
        "        img_name = os.path.join(self.root_dir,self.nail_frame.iloc[idx][\"filename\"])\n",
        "        img_name=img_name.split('.')[0]+'.png'\n",
        "        image = cv2.imread(img_name)\n",
        "        image = cv2.cvtColor(image, cv2.COLOR_BGR2RGB)\n",
        "\n",
        "        # read mask\n",
        "        mask_name=os.path.join(self.root_dir,self.nail_frame.iloc[idx][\"mask\"])\n",
        "        mask = cv2.imread(mask_name,cv2.IMREAD_UNCHANGED)\n",
        "\n",
        "        # required for albumentation\n",
        "        mask = mask.astype(np.float32)\n",
        "        mask[mask == 0] = 0.0\n",
        "        mask[mask == 255] = 1.0\n",
        "\n",
        "        if self.transform:\n",
        "            sample = self.transform(image=image, mask=mask)\n",
        "            image = sample['image']\n",
        "            mask=sample['mask']\n",
        "            mask=mask.unsqueeze(0)\n",
        "\n",
        "        return image,mask\n",
        "\n",
        "train_transform=A.Compose([\n",
        "        A.ShiftScaleRotate(shift_limit=0.2, scale_limit=0.2, rotate_limit=30, p=0.5,border_mode=cv2.BORDER_CONSTANT),\n",
        "        A.RGBShift(r_shift_limit=25, g_shift_limit=25, b_shift_limit=25, p=0.5),\n",
        "        A.RandomBrightnessContrast(brightness_limit=0.3, contrast_limit=0.3, p=0.5),\n",
        "        A.Normalize(mean=(0.485, 0.456, 0.406), std=(0.229, 0.224, 0.225)),\n",
        "        ToTensorV2()])\n",
        "\n",
        "\n",
        "validation_transform =A.Compose([\n",
        "        A.Normalize(mean=(0.485, 0.456, 0.406), std=(0.229, 0.224, 0.225)),\n",
        "        ToTensorV2()])\n",
        "\n",
        "\n",
        "############################################################################################################33\n",
        "#### Card Model\n",
        "\n",
        "class CardModel(pl.LightningModule):\n",
        "\n",
        "    def __init__(self,arch,encoder_name,encoder_weights,learning_rate,name_optimizer,frozen_encoder=True):\n",
        "        super().__init__()\n",
        "        self.lr=learning_rate\n",
        "        self.optimizer_name=name_optimizer\n",
        "        self.save_hyperparameters()\n",
        "        self.training_step_outputs = []\n",
        "        self.validation_step_outputs = []\n",
        "\n",
        "        self.model = smp.create_model(\n",
        "            arch,\n",
        "            encoder_name=encoder_name,\n",
        "            encoder_weights=encoder_weights,\n",
        "            classes=1,\n",
        "            #activation='sigmoid'\n",
        "            )\n",
        "\n",
        "        # for image segmentation dice loss could be the best first choice\n",
        "        self.loss_fn = smp.losses.DiceLoss(smp.losses.BINARY_MODE,from_logits=True)\n",
        "\n",
        "        if frozen_encoder==True:\n",
        "            for child in self.model.encoder.children():\n",
        "                for param in child.parameters():\n",
        "                    param.requires_grad = False\n",
        "\n",
        "\n",
        "    def forward(self, image):\n",
        "        mask = self.model(image)\n",
        "        return mask\n",
        "\n",
        "    def training_step(self, batch, batch_idx):\n",
        "        # training_step defines the train loop.\n",
        "        # it is independent of forward\n",
        "\n",
        "        image=batch[0]\n",
        "        # assert image (batch_size,num_channels,height,width)\n",
        "        assert image.ndim == 4\n",
        "        # assert the image dim is suitable for Unet\n",
        "        h, w = image.shape[2:]\n",
        "        assert h % 32 == 0 and w % 32 == 0\n",
        "\n",
        "        mask=batch[1]\n",
        "        assert mask.ndim == 4\n",
        "        assert mask.max()<=1 and  mask.min()>=0 # check that the mask between [0,1] not in range [0,255]\n",
        "\n",
        "        # calculate loss\n",
        "        output_mask = self.forward(image)\n",
        "        loss=self.loss_fn(output_mask,mask)\n",
        "\n",
        "        pred_mask=(output_mask.sigmoid() >= 0.5).float()\n",
        "\n",
        "\n",
        "\n",
        "        # calculate logs\n",
        "        tp, fp, fn, tn = smp.metrics.get_stats(pred_mask.long(), mask.long(), mode=\"binary\")\n",
        "\n",
        "        train_batch_dictionary={\"tp\":tp,\n",
        "                          \"fp\":fp,\n",
        "                          \"fn\":fn,\n",
        "                          \"tn\":tn}\n",
        "\n",
        "        self.training_step_outputs.append(train_batch_dictionary)\n",
        "        # logs metrics for each training_step,\n",
        "        # and the average across the epoch, to the progress bar and logger\n",
        "        self.log(\"train_loss\", loss, on_epoch=True, prog_bar=True, logger=True)\n",
        "\n",
        "        return loss\n",
        "\n",
        "    def on_train_epoch_end(self):\n",
        "        # aggregate step metics\n",
        "        outputs=self.training_step_outputs\n",
        "        tp = torch.cat([x[\"tp\"] for x in outputs])\n",
        "        fp = torch.cat([x[\"fp\"] for x in outputs])\n",
        "        fn = torch.cat([x[\"fn\"] for x in outputs])\n",
        "        tn = torch.cat([x[\"tn\"] for x in outputs])\n",
        "\n",
        "\n",
        "        per_image_iou = smp.metrics.iou_score(tp, fp, fn, tn, reduction=\"micro-imagewise\") # mean (per image)\n",
        "        dataset_iou = smp.metrics.iou_score(tp, fp, fn, tn, reduction=\"micro\") # sum tp,fp,fn,tn over all dataset\n",
        "\n",
        "        metrics = {\n",
        "            \"train_per_image_iou\": per_image_iou,\n",
        "        #    \"train_dataset_iou\": dataset_iou,\n",
        "        }\n",
        "\n",
        "        self.log_dict(metrics, prog_bar=True)\n",
        "        self.training_step_outputs.clear()\n",
        "\n",
        "\n",
        "\n",
        "    def validation_step(self, batch, batch_idx):\n",
        "        # training_step defines the train loop.\n",
        "        # it is independent of forward\n",
        "\n",
        "        image=batch[0]\n",
        "        # assert image (batch_size,num_channels,height,width)\n",
        "        assert image.ndim == 4\n",
        "        # assert the image dim is suitable for Unet\n",
        "        h, w = image.shape[2:]\n",
        "        assert h % 32 == 0 and w % 32 == 0\n",
        "\n",
        "        mask=batch[1]\n",
        "        assert mask.ndim == 4\n",
        "        assert mask.max()<=1 and  mask.min()>=0 # check that the mask between [0,1] not in range [0,255]\n",
        "\n",
        "        # calculate loss\n",
        "        output_mask = self.forward(image)\n",
        "        loss=self.loss_fn(output_mask,mask)\n",
        "\n",
        "        pred_mask=(output_mask.sigmoid() >= 0.5).float()\n",
        "\n",
        "\n",
        "        # calculate logs\n",
        "        tp, fp, fn, tn = smp.metrics.get_stats(pred_mask.long(), mask.long(), mode=\"binary\")\n",
        "\n",
        "        validation_batch_dictionary={\"loss\":loss,\n",
        "                          \"tp\":tp,\n",
        "                          \"fp\":fp,\n",
        "                          \"fn\":fn,\n",
        "                          \"tn\":tn}\n",
        "\n",
        "        self.validation_step_outputs.append(validation_batch_dictionary)\n",
        "        # logs metrics for each training_step,\n",
        "        # and the average across the epoch, to the progress bar and logger\n",
        "        self.log(\"valid_loss\", loss, on_epoch=True, prog_bar=True, logger=True)\n",
        "\n",
        "        return loss\n",
        "\n",
        "\n",
        "    def on_validation_epoch_end(self):\n",
        "        # aggregate step metics\n",
        "        outputs= self.validation_step_outputs\n",
        "        tp = torch.cat([x[\"tp\"] for x in outputs])\n",
        "        fp = torch.cat([x[\"fp\"] for x in outputs])\n",
        "        fn = torch.cat([x[\"fn\"] for x in outputs])\n",
        "        tn = torch.cat([x[\"tn\"] for x in outputs])\n",
        "\n",
        "\n",
        "        per_image_iou = smp.metrics.iou_score(tp, fp, fn, tn, reduction=\"micro-imagewise\") # mean (per image)\n",
        "        #dataset_iou = smp.metrics.iou_score(tp, fp, fn, tn, reduction=\"micro\") # sum tp,fp,fn,tn over all dataset\n",
        "\n",
        "        metrics = {\n",
        "            \"validation_per_image_iou\": per_image_iou,\n",
        "            #\"validation_dataset_iou\": dataset_iou,\n",
        "        }\n",
        "\n",
        "        self.log_dict(metrics, prog_bar=True)\n",
        "        self.validation_step_outputs.clear()\n",
        "\n",
        "    def configure_optimizers(self):\n",
        "        if  self.optimizer_name=='Adam':\n",
        "            return torch.optim.Adam(self.parameters(), lr=(self.lr or self.learning_rate))\n",
        "        if  self.optimizer_name==\"Sgd\":\n",
        "            return torch.optim.SGD(self.parameters(), lr=(self.lr or self.learning_rate), momentum=0.9)\n"
      ]
    },
    {
      "cell_type": "code",
      "execution_count": 26,
      "metadata": {
        "id": "wW_DV87i9sLt"
      },
      "outputs": [],
      "source": [
        "def train_run(config=None):\n",
        "\n",
        "    config={\"N_EPOCH\":100,\n",
        "            \"ENCODER\":'efficientnet-b5',\n",
        "            \"Frozen_Encoder_Flag\":True,\n",
        "             \"OPTIMIZER\":\"Adam\",\n",
        "            \"LEARNING_RATE\":0.02416,\n",
        "             \"BATCH_SIZE\":16}\n",
        "\n",
        "    # Get hyperparameters from the run configs\n",
        "    #run_name=f\"{config[\"ENCODER\"]}_{config[\"OPTIMIZER\"]}_lr={config[\"LEARNING_RATE\"]}_batch={config[\"BATCH_SIZE\"]}\"\n",
        "    wandb.init(config=config,project=\"Card_detection\")\n",
        "\n",
        "    #data_path='/home/tatyana/Work_Invonto/Dataset/Card_Dataset/Dataset_ready_July2023'\n",
        "    data_path='/tmp/'\n",
        "\n",
        "    ### Load Data\n",
        "    n_cpu = os.cpu_count()\n",
        "    #train\n",
        "    x_train_path=os.path.join(data_path,'Train')\n",
        "    y_train_dataloader=os.path.join(x_train_path,'Train_DataLoader.csv')\n",
        "    #y_train_dataloader=os.path.join(x_train_path,'Train_DataLoader_sample96.csv')\n",
        "    train_dataset = CardDataset(y_train_dataloader, x_train_path,transform=train_transform, augmentation=None)\n",
        "    train_loader = DataLoader(train_dataset, batch_size=config[\"BATCH_SIZE\"], shuffle=True,drop_last=True,num_workers=n_cpu)\n",
        "    #print('Number of training samples:', len(train_dataset))\n",
        "\n",
        "    # validation\n",
        "    x_valid_path = os.path.join(data_path, 'Validation')\n",
        "    y_valid_dataloader = os.path.join(x_valid_path, 'Validation_DataLoader.csv')\n",
        "    valid_dataset = CardDataset(y_valid_dataloader,x_valid_path,transform=validation_transform, augmentation=None)\n",
        "    valid_loader = DataLoader(valid_dataset, batch_size=config[\"BATCH_SIZE\"], shuffle=False,num_workers=n_cpu)\n",
        "    #print('Number of validation samples:', len(valid_dataset))\n",
        "\n",
        "\n",
        "    ### Define Model\n",
        "    card_model = CardModel(\"Unet\", config[\"ENCODER\"] ,\"imagenet\",config[\"LEARNING_RATE\"],config[\"OPTIMIZER\"],frozen_encoder=config[\"Frozen_Encoder_Flag\"])\n",
        "\n",
        "    wandb_logger = WandbLogger(project=\"Card_detection\")\n",
        "    trainer = pl.Trainer(max_epochs=config[\"N_EPOCH\"],\n",
        "                     logger=wandb_logger,\n",
        "                     log_every_n_steps=1,\n",
        "                     default_root_dir=\"/content/drive/MyDrive/Dataset/\")\n",
        "    trainer.fit(\n",
        "        model=card_model,\n",
        "        train_dataloaders=train_loader,\n",
        "        val_dataloaders=valid_loader)\n",
        "\n",
        "    name=\"CardModel_\"+run.id\n",
        "    path = \"/content/drive/MyDrive/Dataset/\"\n",
        "    model_name=path+name+'.onnx'\n",
        "    torch.onnx.export(card_model,\n",
        "                  torch.randn(1,3,480,320).to('cpu'),\n",
        "                  model_name,\n",
        "                  input_names = ['input'],              # the model's input names\n",
        "                  output_names = ['output'])\n",
        "    wandb.save(model_name)"
      ]
    },
    {
      "cell_type": "code",
      "execution_count": 1,
      "metadata": {
        "colab": {
          "base_uri": "https://localhost:8080/",
          "height": 1000
        },
        "id": "qYr94Fth9sLu",
        "outputId": "3689892f-0bcf-4053-fbd0-74b81270a3e7"
      },
      "outputs": [],
      "source": [
        "# train_run()\n",
        "# wandb.finish()"
      ]
    },
    {
      "cell_type": "code",
      "execution_count": null,
      "metadata": {
        "colab": {
          "base_uri": "https://localhost:8080/",
          "height": 1000
        },
        "id": "Q3_rJP7fAflx",
        "outputId": "3e301f64-6878-47c4-b568-276458fd8ad3"
      },
      "outputs": [],
      "source": []
    },
    {
      "cell_type": "code",
      "execution_count": null,
      "metadata": {
        "id": "IwBW54BVeE56"
      },
      "outputs": [],
      "source": []
    }
  ],
  "metadata": {
    "accelerator": "GPU",
    "colab": {
      "gpuType": "T4",
      "provenance": []
    },
    "kernelspec": {
      "display_name": "Python 3",
      "name": "python3"
    },
    "language_info": {
      "codemirror_mode": {
        "name": "ipython",
        "version": 3
      },
      "file_extension": ".py",
      "mimetype": "text/x-python",
      "name": "python",
      "nbconvert_exporter": "python",
      "pygments_lexer": "ipython3",
      "version": "3.9.1"
    },
    "orig_nbformat": 4,
    "widgets": {
      "application/vnd.jupyter.widget-state+json": {
        "5f7825c7242949ff8d545d7ca715db4e": {
          "model_module": "@jupyter-widgets/base",
          "model_module_version": "1.2.0",
          "model_name": "LayoutModel",
          "state": {
            "_model_module": "@jupyter-widgets/base",
            "_model_module_version": "1.2.0",
            "_model_name": "LayoutModel",
            "_view_count": null,
            "_view_module": "@jupyter-widgets/base",
            "_view_module_version": "1.2.0",
            "_view_name": "LayoutView",
            "align_content": null,
            "align_items": null,
            "align_self": null,
            "border": null,
            "bottom": null,
            "display": null,
            "flex": null,
            "flex_flow": null,
            "grid_area": null,
            "grid_auto_columns": null,
            "grid_auto_flow": null,
            "grid_auto_rows": null,
            "grid_column": null,
            "grid_gap": null,
            "grid_row": null,
            "grid_template_areas": null,
            "grid_template_columns": null,
            "grid_template_rows": null,
            "height": null,
            "justify_content": null,
            "justify_items": null,
            "left": null,
            "margin": null,
            "max_height": null,
            "max_width": null,
            "min_height": null,
            "min_width": null,
            "object_fit": null,
            "object_position": null,
            "order": null,
            "overflow": null,
            "overflow_x": null,
            "overflow_y": null,
            "padding": null,
            "right": null,
            "top": null,
            "visibility": null,
            "width": null
          }
        },
        "66ec6b636f1f4900b18192b11dca250e": {
          "model_module": "@jupyter-widgets/controls",
          "model_module_version": "1.5.0",
          "model_name": "FloatProgressModel",
          "state": {
            "_dom_classes": [],
            "_model_module": "@jupyter-widgets/controls",
            "_model_module_version": "1.5.0",
            "_model_name": "FloatProgressModel",
            "_view_count": null,
            "_view_module": "@jupyter-widgets/controls",
            "_view_module_version": "1.5.0",
            "_view_name": "ProgressView",
            "bar_style": "",
            "description": "",
            "description_tooltip": null,
            "layout": "IPY_MODEL_5f7825c7242949ff8d545d7ca715db4e",
            "max": 1,
            "min": 0,
            "orientation": "horizontal",
            "style": "IPY_MODEL_793dc8bf53d543e7961d4ccd0222effa",
            "value": 0.11273778440880268
          }
        },
        "793dc8bf53d543e7961d4ccd0222effa": {
          "model_module": "@jupyter-widgets/controls",
          "model_module_version": "1.5.0",
          "model_name": "ProgressStyleModel",
          "state": {
            "_model_module": "@jupyter-widgets/controls",
            "_model_module_version": "1.5.0",
            "_model_name": "ProgressStyleModel",
            "_view_count": null,
            "_view_module": "@jupyter-widgets/base",
            "_view_module_version": "1.2.0",
            "_view_name": "StyleView",
            "bar_color": null,
            "description_width": ""
          }
        },
        "8e50c8dad02046a59b46d5cf6b7d5779": {
          "model_module": "@jupyter-widgets/base",
          "model_module_version": "1.2.0",
          "model_name": "LayoutModel",
          "state": {
            "_model_module": "@jupyter-widgets/base",
            "_model_module_version": "1.2.0",
            "_model_name": "LayoutModel",
            "_view_count": null,
            "_view_module": "@jupyter-widgets/base",
            "_view_module_version": "1.2.0",
            "_view_name": "LayoutView",
            "align_content": null,
            "align_items": null,
            "align_self": null,
            "border": null,
            "bottom": null,
            "display": null,
            "flex": null,
            "flex_flow": null,
            "grid_area": null,
            "grid_auto_columns": null,
            "grid_auto_flow": null,
            "grid_auto_rows": null,
            "grid_column": null,
            "grid_gap": null,
            "grid_row": null,
            "grid_template_areas": null,
            "grid_template_columns": null,
            "grid_template_rows": null,
            "height": null,
            "justify_content": null,
            "justify_items": null,
            "left": null,
            "margin": null,
            "max_height": null,
            "max_width": null,
            "min_height": null,
            "min_width": null,
            "object_fit": null,
            "object_position": null,
            "order": null,
            "overflow": null,
            "overflow_x": null,
            "overflow_y": null,
            "padding": null,
            "right": null,
            "top": null,
            "visibility": null,
            "width": null
          }
        },
        "97d49e68226d47669e5868e3d766760a": {
          "model_module": "@jupyter-widgets/controls",
          "model_module_version": "1.5.0",
          "model_name": "DescriptionStyleModel",
          "state": {
            "_model_module": "@jupyter-widgets/controls",
            "_model_module_version": "1.5.0",
            "_model_name": "DescriptionStyleModel",
            "_view_count": null,
            "_view_module": "@jupyter-widgets/base",
            "_view_module_version": "1.2.0",
            "_view_name": "StyleView",
            "description_width": ""
          }
        },
        "c142ece118784b8d9c277bb9037be7ab": {
          "model_module": "@jupyter-widgets/controls",
          "model_module_version": "1.5.0",
          "model_name": "LabelModel",
          "state": {
            "_dom_classes": [],
            "_model_module": "@jupyter-widgets/controls",
            "_model_module_version": "1.5.0",
            "_model_name": "LabelModel",
            "_view_count": null,
            "_view_module": "@jupyter-widgets/controls",
            "_view_module_version": "1.5.0",
            "_view_name": "LabelView",
            "description": "",
            "description_tooltip": null,
            "layout": "IPY_MODEL_e3cc3be83c5944589ada73ef002c930e",
            "placeholder": "​",
            "style": "IPY_MODEL_97d49e68226d47669e5868e3d766760a",
            "value": "0.001 MB of 0.010 MB uploaded (0.000 MB deduped)\r"
          }
        },
        "dba106bbaf184380bdb32b0409dad1db": {
          "model_module": "@jupyter-widgets/controls",
          "model_module_version": "1.5.0",
          "model_name": "VBoxModel",
          "state": {
            "_dom_classes": [],
            "_model_module": "@jupyter-widgets/controls",
            "_model_module_version": "1.5.0",
            "_model_name": "VBoxModel",
            "_view_count": null,
            "_view_module": "@jupyter-widgets/controls",
            "_view_module_version": "1.5.0",
            "_view_name": "VBoxView",
            "box_style": "",
            "children": [
              "IPY_MODEL_c142ece118784b8d9c277bb9037be7ab",
              "IPY_MODEL_66ec6b636f1f4900b18192b11dca250e"
            ],
            "layout": "IPY_MODEL_8e50c8dad02046a59b46d5cf6b7d5779"
          }
        },
        "e3cc3be83c5944589ada73ef002c930e": {
          "model_module": "@jupyter-widgets/base",
          "model_module_version": "1.2.0",
          "model_name": "LayoutModel",
          "state": {
            "_model_module": "@jupyter-widgets/base",
            "_model_module_version": "1.2.0",
            "_model_name": "LayoutModel",
            "_view_count": null,
            "_view_module": "@jupyter-widgets/base",
            "_view_module_version": "1.2.0",
            "_view_name": "LayoutView",
            "align_content": null,
            "align_items": null,
            "align_self": null,
            "border": null,
            "bottom": null,
            "display": null,
            "flex": null,
            "flex_flow": null,
            "grid_area": null,
            "grid_auto_columns": null,
            "grid_auto_flow": null,
            "grid_auto_rows": null,
            "grid_column": null,
            "grid_gap": null,
            "grid_row": null,
            "grid_template_areas": null,
            "grid_template_columns": null,
            "grid_template_rows": null,
            "height": null,
            "justify_content": null,
            "justify_items": null,
            "left": null,
            "margin": null,
            "max_height": null,
            "max_width": null,
            "min_height": null,
            "min_width": null,
            "object_fit": null,
            "object_position": null,
            "order": null,
            "overflow": null,
            "overflow_x": null,
            "overflow_y": null,
            "padding": null,
            "right": null,
            "top": null,
            "visibility": null,
            "width": null
          }
        }
      }
    }
  },
  "nbformat": 4,
  "nbformat_minor": 0
}
